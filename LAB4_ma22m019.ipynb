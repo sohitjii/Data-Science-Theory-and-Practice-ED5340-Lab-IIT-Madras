{
 "cells": [
  {
   "cell_type": "markdown",
   "id": "5d3115c6",
   "metadata": {},
   "source": [
    "\n",
    "1. Given a list of integers, write a Python program to:\n",
    "\n",
    "a) Find the frequency of each integer in the list and store the result in a dictionary.\n",
    "\n",
    "b) Print the maximum integer and its frequency.\n",
    "\n",
    "c) Remove duplicates from the list and print the new list without changing the order of elements. Do this operation without using the set data type.\n",
    "\n",
    "d) Remove duplicates from the list and print the new list without changing the order of elements. Do this operation using the set data type."
   ]
  },
  {
   "cell_type": "code",
   "execution_count": 20,
   "id": "c9f40e16",
   "metadata": {},
   "outputs": [
    {
     "name": "stdout",
     "output_type": "stream",
     "text": [
      "{1: 5, 5: 2, 3: 3, 4: 3, 2: 4}\n"
     ]
    }
   ],
   "source": [
    "#the frequency of each integer in the list and store the result in a dictionary.\n",
    "def CountFrequency(my_list):\n",
    "     \n",
    "   count = {}\n",
    "   for i in my_list:\n",
    "    count[i] = count.get(i, 0) + 1\n",
    "   return count\n",
    " \n",
    "if __name__ == \"__main__\":\n",
    "    my_list =[1, 1, 1, 5, 5, 3, 1, 3, 3, 1, 4, 4, 4, 2, 2, 2, 2]\n",
    "    print(CountFrequency(my_list))"
   ]
  },
  {
   "cell_type": "code",
   "execution_count": null,
   "id": "b21acd97",
   "metadata": {},
   "outputs": [],
   "source": []
  },
  {
   "cell_type": "code",
   "execution_count": 19,
   "id": "3e9b1140",
   "metadata": {},
   "outputs": [
    {
     "name": "stdout",
     "output_type": "stream",
     "text": [
      "2\n"
     ]
    }
   ],
   "source": [
    "# the maximum integer and its frequency.\n",
    "list1 = [9, 4, 5, 4, 4, 5, 9, 5, 4]\n",
    "g = max(list1)\n",
    "res = list1.count(g)\n",
    "\n",
    "print(res)"
   ]
  },
  {
   "cell_type": "code",
   "execution_count": 25,
   "id": "469ead1a",
   "metadata": {},
   "outputs": [
    {
     "name": "stdout",
     "output_type": "stream",
     "text": [
      "[9, 4, 5]\n"
     ]
    }
   ],
   "source": [
    "#Remove duplicates from the list and print the new list without changing the order of element, without using the set data type\n",
    "list1 = [9, 4, 5, 4, 4, 5, 9, 5, 4]\n",
    "\n",
    "res = []\n",
    "[res.append(x) for x in list1 if x not in res]    \n",
    "print(res)       "
   ]
  },
  {
   "cell_type": "code",
   "execution_count": 27,
   "id": "38148899",
   "metadata": {},
   "outputs": [
    {
     "name": "stdout",
     "output_type": "stream",
     "text": [
      "[9, 4, 5]\n"
     ]
    }
   ],
   "source": [
    "##Remove duplicates from the list and print the new list without changing the order of element, with using the set data type\n",
    "list1 = [9, 4, 5, 4, 4, 5, 9, 5, 4]\n",
    "res= [*set(list1)]\n",
    "print(res)"
   ]
  },
  {
   "cell_type": "markdown",
   "id": "739ad804",
   "metadata": {},
   "source": [
    "2. Store the employee IDs, names, salaries, and years of experience using nested dictionaries (the key of the highest level dictionary can be the employee ID). \n",
    "\n",
    "a) Sort this dictionary using the salary value. \n",
    "\n",
    "b) Add a new employee to the dictionary in the correct position (sorted as mentioned above)."
   ]
  },
  {
   "cell_type": "code",
   "execution_count": null,
   "id": "b444430e",
   "metadata": {},
   "outputs": [],
   "source": []
  },
  {
   "cell_type": "code",
   "execution_count": 30,
   "id": "8aa9061d",
   "metadata": {},
   "outputs": [],
   "source": [
    "dic={'em1':{'name':'ram','salary':200,'expe':2},'ep2':{'name':'shyam','salary':300,'expe':3},'em3':{'name':'radha','salary':100,'expe':1}}"
   ]
  },
  {
   "cell_type": "code",
   "execution_count": 32,
   "id": "3eea8fec",
   "metadata": {},
   "outputs": [
    {
     "data": {
      "text/plain": [
       "{'em1': {'name': 'ram', 'salary': 200, 'expe': 2},\n",
       " 'ep2': {'name': 'shyam', 'salary': 300, 'expe': 3},\n",
       " 'em3': {'name': 'radha', 'salary': 100, 'expe': 1}}"
      ]
     },
     "execution_count": 32,
     "metadata": {},
     "output_type": "execute_result"
    }
   ],
   "source": [
    "dic"
   ]
  },
  {
   "cell_type": "code",
   "execution_count": 37,
   "id": "6b7cd433",
   "metadata": {},
   "outputs": [
    {
     "data": {
      "text/plain": [
       "[('em3', {'name': 'radha', 'salary': 100, 'expe': 1}),\n",
       " ('em1', {'name': 'ram', 'salary': 200, 'expe': 2}),\n",
       " ('ep2', {'name': 'shyam', 'salary': 300, 'expe': 3})]"
      ]
     },
     "execution_count": 37,
     "metadata": {},
     "output_type": "execute_result"
    }
   ],
   "source": [
    "#Sort this dictionary using the salary value\n",
    "items = sorted(dic.items(), key = lambda dic: dic[1]['salary'])\n",
    "items"
   ]
  },
  {
   "cell_type": "code",
   "execution_count": 38,
   "id": "93d90e1b",
   "metadata": {},
   "outputs": [],
   "source": [
    "#Add a new employee to the dictionary\n",
    "di= {'em4':{'name':'raj','salary':600,'expe':4}}\n",
    "dic.update(di)"
   ]
  },
  {
   "cell_type": "code",
   "execution_count": 39,
   "id": "251642f2",
   "metadata": {},
   "outputs": [
    {
     "data": {
      "text/plain": [
       "{'em1': {'name': 'ram', 'salary': 200, 'expe': 2},\n",
       " 'ep2': {'name': 'shyam', 'salary': 300, 'expe': 3},\n",
       " 'em3': {'name': 'radha', 'salary': 100, 'expe': 1},\n",
       " 'em4': {'name': 'raj', 'salary': 600, 'expe': 4}}"
      ]
     },
     "execution_count": 39,
     "metadata": {},
     "output_type": "execute_result"
    }
   ],
   "source": [
    "dic"
   ]
  },
  {
   "cell_type": "code",
   "execution_count": 40,
   "id": "01cfa578",
   "metadata": {},
   "outputs": [
    {
     "data": {
      "text/plain": [
       "[('em3', {'name': 'radha', 'salary': 100, 'expe': 1}),\n",
       " ('em1', {'name': 'ram', 'salary': 200, 'expe': 2}),\n",
       " ('ep2', {'name': 'shyam', 'salary': 300, 'expe': 3}),\n",
       " ('em4', {'name': 'raj', 'salary': 600, 'expe': 4})]"
      ]
     },
     "execution_count": 40,
     "metadata": {},
     "output_type": "execute_result"
    }
   ],
   "source": [
    "##Sort this dictionary using the salary value\n",
    "items = sorted(dic.items(), key = lambda dic: dic[1]['salary'])\n",
    "items"
   ]
  },
  {
   "cell_type": "markdown",
   "id": "298a62e1",
   "metadata": {},
   "source": [
    "3. You are given two Python dictionaries, A and B, with keys as alphabets and values as random integers. Write a Python function to create a third dictionary C, that combines A and B. For common keys, the value in C should be the sum of values from A and B. \n",
    "\n",
    "For example, if dictionary A is {\"a\": 3, \"b\": 5, \"c\": 7} and dictionary B is {\"b\": 2, \"c\": 4, \"d\": 6}, the function should return a dictionary C that looks like {\"a\": 3, \"b\": 7, \"c\": 11, \"d\": 6}."
   ]
  },
  {
   "cell_type": "code",
   "execution_count": null,
   "id": "46bada89",
   "metadata": {},
   "outputs": [],
   "source": []
  },
  {
   "cell_type": "code",
   "execution_count": 53,
   "id": "400faf2f",
   "metadata": {},
   "outputs": [
    {
     "name": "stdout",
     "output_type": "stream",
     "text": [
      "{'a': 1, 'b': 5, 'c': 100, 'd': 21, 'e': 200}\n"
     ]
    }
   ],
   "source": [
    "#or common keys, the value in C should be the sum of values from A and B\n",
    "x = {'a':1, 'b':2, 'c': 100 ,'d':1}\n",
    "y = {'b':3, 'd': 20, 'e':200 }\n",
    " \n",
    "# adding the values with common key\n",
    "for key in y:\n",
    "    if key in x:\n",
    "        y[key] = y[key] + x[key]\n",
    "    else:\n",
    "        pass\n",
    "z={}    \n",
    "z.update(x)\n",
    "z.update(y)\n",
    "        \n",
    "        \n",
    "         \n",
    "print(z)"
   ]
  },
  {
   "cell_type": "markdown",
   "id": "842123aa",
   "metadata": {},
   "source": [
    "4. Assume you have a list of lists, where each inner list contains two elements: a key and a value. Write a Python function that takes the list of lists as input and returns a list of dictionaries, where each dictionary contains a key-value pair from the original input list.\n",
    "\n",
    " "
   ]
  },
  {
   "cell_type": "code",
   "execution_count": 59,
   "id": "729a983d",
   "metadata": {},
   "outputs": [
    {
     "name": "stdout",
     "output_type": "stream",
     "text": [
      "{2: 'e', 3: 'f', 4: 'r', 5: 'h'}\n"
     ]
    }
   ],
   "source": [
    "#returns a list of dictionaries\n",
    "lis= [[2,'e'],[3,'f'],[4,'r'],[5,'h']]\n",
    "r = dict()\n",
    "for s in lis:\n",
    "    r[s[0]] = s[1]\n",
    "print(r)"
   ]
  },
  {
   "cell_type": "markdown",
   "id": "cf7ef179",
   "metadata": {},
   "source": [
    " Write a function to check whether all the members in the list are anagrams of each other. For example: \n",
    "\n",
    "              This input [\"triangle,” \"integral,” \"altering\"] should return True,\n",
    "\n",
    "              While [“world,” “hello”, “goodbye”] should return False.\n",
    "\n",
    " "
   ]
  },
  {
   "cell_type": "code",
   "execution_count": 88,
   "id": "c9f03823",
   "metadata": {},
   "outputs": [
    {
     "name": "stdout",
     "output_type": "stream",
     "text": [
      "True\n"
     ]
    }
   ],
   "source": [
    "  #check whether all the members in the list are anagrams \n",
    "\n",
    "list2= ['integral','altering','triangle']\n",
    "#list2=[\"sohit\",\"shito\",\"mhit\"]\n",
    "\n",
    "ele1= sorted(list2[0])\n",
    "\n",
    "for j in range(1,len(list2)):\n",
    "    if sorted(list2[j])!=ele1:\n",
    "        print (\"False\")\n",
    "else:\n",
    "    print(\"True\")\n",
    "    \n",
    "    \n",
    "    \n",
    "    \n",
    "    "
   ]
  },
  {
   "cell_type": "markdown",
   "id": "71c8699e",
   "metadata": {},
   "source": [
    "6. Write a Python function that calculates the square of a given number. Then, take a list of numbers and use the map() function to apply the square function to each list element. Print the resulting list of numbers and their squares in the form of a dictionary where each key is a number from the original list, and its corresponding value is its square.\n",
    "\n",
    "[Sample example: numbers = [1, 2, 3, 4, 5]\n",
    "\n",
    "                                 output dictionary = {1: 1, 2: 4, 3: 9, 4: 16, 5: 25}   ]\n",
    "\n",
    " "
   ]
  },
  {
   "cell_type": "code",
   "execution_count": 90,
   "id": "c843a7d0",
   "metadata": {},
   "outputs": [
    {
     "name": "stdout",
     "output_type": "stream",
     "text": [
      "16\n"
     ]
    }
   ],
   "source": [
    "# a Python function that calculates the square of a given number\n",
    "def sq(x):\n",
    "    y=x*x\n",
    "    return y\n",
    "a=4\n",
    "print(sq(a))\n"
   ]
  },
  {
   "cell_type": "code",
   "execution_count": 100,
   "id": "63dec94e",
   "metadata": {},
   "outputs": [
    {
     "name": "stdout",
     "output_type": "stream",
     "text": [
      "{1: 1, 2: 4, 3: 9, 4: 16}\n"
     ]
    }
   ],
   "source": [
    "def sq(x):\n",
    "    y=x*x\n",
    "    return y\n",
    "lt= [1,2,3,4]\n",
    "tt= map(sq,lt)\n",
    "a= list(tt)\n",
    "\n",
    "dic={}\n",
    "\n",
    "for x,y in zip(lt,a):\n",
    "    dic[x]=y\n",
    "\n",
    "print(dic)\n",
    "    "
   ]
  },
  {
   "cell_type": "markdown",
   "id": "9930fb24",
   "metadata": {},
   "source": [
    "7. Write a function that takes an integer input from the user and prints Pascal’s Triangle.\n",
    "\n",
    "Sample input=3\n",
    "\n",
    "Output:         1\n",
    "\n",
    "               1    2      1\n",
    "\n",
    "            1    3     3     1"
   ]
  },
  {
   "cell_type": "code",
   "execution_count": 102,
   "id": "d5acc72a",
   "metadata": {},
   "outputs": [
    {
     "name": "stdout",
     "output_type": "stream",
     "text": [
      "4\n",
      "     1\n",
      "    1 1\n",
      "   1 2 1\n",
      "  1 3 3 1\n"
     ]
    }
   ],
   "source": [
    "n = int(input())\n",
    " \n",
    "for i in range(1, n+1):\n",
    "    for j in range(0, n-i+1):\n",
    "        print(' ', end='')\n",
    "    C = 1\n",
    "    for j in range(1, i+1):\n",
    "        print(' ', C, sep='', end='')\n",
    "        C = C * (i - j) // j\n",
    "    print()"
   ]
  },
  {
   "cell_type": "markdown",
   "id": "856b98b1",
   "metadata": {},
   "source": [
    "8. Write a function:\n",
    "\n",
    "     That takes a user input (integer, say n) and prints n Fibonacci numbers (inclusively), using recursion and without recursion.\n",
    "\n",
    "Also, check if the number n is present in the Fibonacci series.\n",
    "\n",
    "Fibonacci series: 0,1,1,2,3,5,8, where F (0) =0, F (1) =1 and so on."
   ]
  },
  {
   "cell_type": "code",
   "execution_count": null,
   "id": "02d5b560",
   "metadata": {},
   "outputs": [],
   "source": []
  },
  {
   "cell_type": "code",
   "execution_count": 105,
   "id": "762a4b25",
   "metadata": {},
   "outputs": [
    {
     "name": "stdout",
     "output_type": "stream",
     "text": [
      "Enter the number you want to check\n",
      "8\n",
      "0 1 1 2 3 5 8 13 "
     ]
    }
   ],
   "source": [
    "#using recursion \n",
    "def fibonacci_numbers(num):\n",
    "    if num == 0:\n",
    "        return 0\n",
    "    elif num == 1:\n",
    "        return 1\n",
    "    else:\n",
    "        return fibonacci_numbers(num-2)+fibonacci_numbers(num-1)\n",
    "  \n",
    "  \n",
    "n = int(input(\"Enter the number \"))\n",
    "for i in range(0, n):\n",
    "    print(fibonacci_numbers(i), end=\" \")"
   ]
  },
  {
   "cell_type": "code",
   "execution_count": 108,
   "id": "421572f4",
   "metadata": {},
   "outputs": [
    {
     "name": "stdout",
     "output_type": "stream",
     "text": [
      "Enter the number12\n",
      "The fibonacci sequence of the numbers is:\n",
      "0\n",
      "1\n",
      "1\n",
      "2\n",
      "3\n",
      "5\n",
      "8\n",
      "13\n",
      "21\n",
      "34\n",
      "55\n",
      "89\n"
     ]
    }
   ],
   "source": [
    "# without recursion\n",
    "n = int(input(\"Enter the number\" ))\n",
    "n_1 = 0  \n",
    "n_2 = 1  \n",
    "count = 0    \n",
    "if n <= 0:  \n",
    "    print (\"Please enter a positive integer, the given number is not valid\")  \n",
    "elif n == 1:  \n",
    "    print (\"The Fibonacci sequence of the numbers up to\", n, \": \")  \n",
    "    print(n_1)   \n",
    "else:  \n",
    "    print (\"The fibonacci sequence of the numbers is:\")  \n",
    "    while count < n:  \n",
    "        print(n_1)  \n",
    "        nth = n_1 + n_2   \n",
    "        n_1 = n_2  \n",
    "        n_2 = nth  \n",
    "        count += 1 "
   ]
  },
  {
   "cell_type": "code",
   "execution_count": 109,
   "id": "c569b8bd",
   "metadata": {},
   "outputs": [
    {
     "name": "stdout",
     "output_type": "stream",
     "text": [
      "Enter the number you want to check\n",
      "8\n",
      "Yes. 8 is a fibonnaci number\n"
     ]
    }
   ],
   "source": [
    "#check if the number n is present in the Fibonacci series\n",
    "num=int(input(\"Enter the number you want to check\\n\"))\n",
    "temp=1\n",
    "k=0\n",
    "a=0\n",
    "summ=0\n",
    "while summ<=num:\n",
    "    summ=temp+k\n",
    "    temp=summ\n",
    "    k=temp\n",
    "    if summ==num:\n",
    "        a=a+1\n",
    "        print(\"Yes. {} is a fibonnaci number\".format(num))\n",
    "        break\n",
    "if a==0:\n",
    "    print(\"No. {} is NOT a fibonacci number\".format(num))"
   ]
  },
  {
   "cell_type": "markdown",
   "id": "2ed8fa60",
   "metadata": {},
   "source": [
    "9. Write a program:\n",
    "\n",
    "         a) To filter a list of integers using lambda.\n",
    "\n",
    "         b) To count even and odd numbers in a given list of integers using lambda.\n",
    "\n",
    "         c) To sort a list of dictionaries using lambda."
   ]
  },
  {
   "cell_type": "code",
   "execution_count": 111,
   "id": "5c1bd091",
   "metadata": {},
   "outputs": [
    {
     "name": "stdout",
     "output_type": "stream",
     "text": [
      "[2, 4, 6, 8]\n",
      "[1, 3, 5, 7]\n"
     ]
    }
   ],
   "source": [
    "#a) To filter a list of integers using lambda.\n",
    "n= [1,2,3,4,5,6,7,8]\n",
    "even = list(filter(lambda x: x%2 == 0, n))\n",
    "print(even)\n",
    "odd = list(filter(lambda x: x%2 != 0, n))\n",
    "print(odd)\n"
   ]
  },
  {
   "cell_type": "code",
   "execution_count": 114,
   "id": "343bb7b6",
   "metadata": {},
   "outputs": [
    {
     "name": "stdout",
     "output_type": "stream",
     "text": [
      "4\n",
      "4\n"
     ]
    }
   ],
   "source": [
    "#To count even and odd numbers in a given list of integers using lambda.\n",
    "n= [1,2,3,4,5,6,7,8]\n",
    "even = len(list(filter(lambda x: x%2 == 0, n)))\n",
    "print(even)\n",
    "odd = len(list(filter(lambda x: x%2 != 0, n)))\n",
    "print(odd)"
   ]
  },
  {
   "cell_type": "code",
   "execution_count": 118,
   "id": "b62ea91b",
   "metadata": {},
   "outputs": [
    {
     "name": "stdout",
     "output_type": "stream",
     "text": [
      "[{'id': '102', 'name': 'sohit', 'dep': 'Ed'}, {'id': '101', 'name': 'umair', 'dep': 'cs'}, {'id': '103', 'name': 'Sahil', 'dep': 'math'}]\n"
     ]
    }
   ],
   "source": [
    "# To sort a list of dictionaries using lambda.\n",
    "emp = [{'id':'101', 'name':'umair', 'dep':'cs'}, {'id':'102', 'name':'sohit', 'dep':'Ed'}, {'id':'103', 'name': 'Sahil', 'dep':'math'}]\n",
    "sorted_emp = sorted(emp, key = lambda x: x['dep'])\n",
    "print(sorted_emp)"
   ]
  },
  {
   "cell_type": "markdown",
   "id": "1e417d13",
   "metadata": {},
   "source": [
    "10. Query for two integers N and M from the user where 0<=N<=100 and 0<=M<=9. These will be the inputs to your function. Using recursion, compute the number of times the integer M occurs in all non-negative integers less than or equal to N. \n",
    "\n",
    " Example: For N=13 and M=1, count=6 (numbers 1, 10, 11, 12, 13) "
   ]
  },
  {
   "cell_type": "code",
   "execution_count": 145,
   "id": "24424edb",
   "metadata": {},
   "outputs": [
    {
     "name": "stdout",
     "output_type": "stream",
     "text": [
      "13\n",
      "1\n",
      "6\n"
     ]
    }
   ],
   "source": [
    "n = int(input())\n",
    "m= input()\n",
    "def gg(i):\n",
    "    count=0\n",
    "    for i in range(1,n+1):\n",
    "        a = str(i)   \n",
    "        for ele in a:\n",
    "            if m==ele:\n",
    "                count= count+1\n",
    "\n",
    "    return(count)\n",
    "s = gg(m)\n",
    "print(s)\n",
    "\n",
    "\n",
    "        \n",
    "            "
   ]
  },
  {
   "cell_type": "markdown",
   "id": "dafc2119",
   "metadata": {},
   "source": [
    "11. Illustrate the usage of positional and keyword arguments using suitable examples."
   ]
  },
  {
   "cell_type": "code",
   "execution_count": 133,
   "id": "f11976c2",
   "metadata": {},
   "outputs": [
    {
     "data": {
      "text/plain": [
       "(3+5j)"
      ]
     },
     "execution_count": 133,
     "metadata": {},
     "output_type": "execute_result"
    }
   ],
   "source": [
    "\n",
    "keyword_dict = {'real': 3, 'imag': 5}\n",
    "complex(**keyword_dict)"
   ]
  },
  {
   "cell_type": "markdown",
   "id": "9ce89f99",
   "metadata": {},
   "source": [
    "On using keyword arguments you will get the correct output because the order of argument doesn’t matter provided the logic of your code is correct. But in the case of positional arguments, you will get more than one output on changing the order of the arguments."
   ]
  },
  {
   "cell_type": "code",
   "execution_count": 136,
   "id": "0c7d50ff",
   "metadata": {},
   "outputs": [
    {
     "name": "stdout",
     "output_type": "stream",
     "text": [
      "Hi, I am sohit\n",
      "My age is  24\n",
      "Hi, I am sohit\n",
      "My age is  24\n"
     ]
    }
   ],
   "source": [
    "#keyword\n",
    "def nameAge(name, age):\n",
    "    print(\"Hi, I am\", name)\n",
    "    print(\"My age is \", age)\n",
    " \n",
    "nameAge(name=\"sohit\", age=24)\n",
    " \n",
    "nameAge(age=24, name=\"sohit\")"
   ]
  },
  {
   "cell_type": "code",
   "execution_count": 137,
   "id": "c231e909",
   "metadata": {},
   "outputs": [
    {
     "name": "stdout",
     "output_type": "stream",
     "text": [
      "Case-1:\n",
      "Hi, I am sohit\n",
      "My age is  24\n",
      "\n",
      "Case-2:\n",
      "Hi, I am 24\n",
      "My age is  sohit\n"
     ]
    }
   ],
   "source": [
    "#positional\n",
    "def nameAge(name, age):\n",
    "    print(\"Hi, I am\", name)\n",
    "    print(\"My age is \", age)\n",
    "\n",
    "print(\"Case-1:\")\n",
    "nameAge(\"sohit\", 24)\n",
    "# You will get incorrect output because argument is not in order\n",
    "print(\"\\nCase-2:\")\n",
    "nameAge(24, \"sohit\")"
   ]
  },
  {
   "cell_type": "markdown",
   "id": "40c7f5b3",
   "metadata": {},
   "source": [
    "12. Write a function to find the minimum of n numbers using variable length positional arguments."
   ]
  },
  {
   "cell_type": "code",
   "execution_count": 146,
   "id": "bd9ef0e4",
   "metadata": {},
   "outputs": [
    {
     "name": "stdout",
     "output_type": "stream",
     "text": [
      "1\n"
     ]
    }
   ],
   "source": [
    "#Write a function to find the minimum of n numbers using variable length positional arguments.\n",
    "def m(*a):\n",
    "    minimum = 10**6\n",
    "    for i in a:\n",
    "        minimum=min(minimum,i)\n",
    "    return minimum\n",
    "\n",
    "print(m(1,2,3,3,4,5,6,7,89,533,4567,7889,222,344445))"
   ]
  },
  {
   "cell_type": "markdown",
   "id": "c6a8e71f",
   "metadata": {},
   "source": [
    "13. Write a function to concatenate n strings using variable length key word arguments."
   ]
  },
  {
   "cell_type": "code",
   "execution_count": 150,
   "id": "02899141",
   "metadata": {},
   "outputs": [
    {
     "name": "stdout",
     "output_type": "stream",
     "text": [
      "Ilovethisclass\n"
     ]
    }
   ],
   "source": [
    "#a function to concatenate n strings using variable length key word arguments\n",
    "def c(**kewarg):\n",
    "    st=\"\"\n",
    "\n",
    "    for k, v in kewarg.items():\n",
    "        st=st+v\n",
    "    \n",
    "    return st\n",
    "\n",
    "print(c(one=\"I\", two=\"love\", thr=\"this\", fr=\"class\"))"
   ]
  },
  {
   "cell_type": "markdown",
   "id": "edb47db0",
   "metadata": {},
   "source": [
    "14. Describe filter () and reduce () functions with suitable examples."
   ]
  },
  {
   "cell_type": "code",
   "execution_count": 151,
   "id": "df322bc4",
   "metadata": {},
   "outputs": [
    {
     "name": "stdout",
     "output_type": "stream",
     "text": [
      "['Apple', 'Apricot']\n"
     ]
    }
   ],
   "source": [
    "#filter\n",
    "def starts_with_A(s):\n",
    "    return s[0] == \"A\"\n",
    "\n",
    "fruit = [\"Apple\", \"Banana\", \"Pear\", \"Apricot\", \"Orange\"]\n",
    "filter_object = filter(starts_with_A, fruit)\n",
    "\n",
    "print(list(filter_object))"
   ]
  },
  {
   "cell_type": "code",
   "execution_count": 152,
   "id": "4f0c217f",
   "metadata": {},
   "outputs": [
    {
     "name": "stdout",
     "output_type": "stream",
     "text": [
      "16\n"
     ]
    }
   ],
   "source": [
    "#reduce\n",
    "from functools import reduce\n",
    "\n",
    "def add(x, y):\n",
    "    return x + y\n",
    "\n",
    "list = [2, 4, 7, 3]\n",
    "print(reduce(add, list))"
   ]
  },
  {
   "cell_type": "code",
   "execution_count": null,
   "id": "2f10d9ea",
   "metadata": {},
   "outputs": [],
   "source": []
  }
 ],
 "metadata": {
  "kernelspec": {
   "display_name": "Python 3 (ipykernel)",
   "language": "python",
   "name": "python3"
  },
  "language_info": {
   "codemirror_mode": {
    "name": "ipython",
    "version": 3
   },
   "file_extension": ".py",
   "mimetype": "text/x-python",
   "name": "python",
   "nbconvert_exporter": "python",
   "pygments_lexer": "ipython3",
   "version": "3.9.13"
  }
 },
 "nbformat": 4,
 "nbformat_minor": 5
}
