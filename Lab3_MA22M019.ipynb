{
 "cells": [
  {
   "cell_type": "markdown",
   "id": "82326de8",
   "metadata": {},
   "source": [
    "# sohit pathak\n",
    "ma22m019"
   ]
  },
  {
   "cell_type": "markdown",
   "id": "172690ee",
   "metadata": {},
   "source": [
    "Find out the applicable methods for the list but not tuples. List them out."
   ]
  },
  {
   "cell_type": "code",
   "execution_count": 1,
   "id": "6c4822cf",
   "metadata": {},
   "outputs": [
    {
     "name": "stdout",
     "output_type": "stream",
     "text": [
      "[1, 2, '9', 4]\n"
     ]
    }
   ],
   "source": [
    "# list are mutable but tuple  is not\n",
    "ae = [1,2,3,4]\n",
    "ae[2]='9'\n",
    "print(ae)"
   ]
  },
  {
   "cell_type": "code",
   "execution_count": 2,
   "id": "4bfc0386",
   "metadata": {},
   "outputs": [],
   "source": [
    "## list are mutable but tuple  is not\n",
    "# no directly tuple comprehension but list comprehension is there\n",
    "# we can not use pop function in tuple but we can use in list\n",
    "# we can not use insert function in tuple but we can use in list\n",
    "# we can not use append function in tuple but we can use in list\n",
    "# we can not use remove function in tuple but we can use in list\n"
   ]
  },
  {
   "cell_type": "code",
   "execution_count": 3,
   "id": "1e308b3b",
   "metadata": {},
   "outputs": [],
   "source": [
    "a = (1,2,3,4,5)\n",
    "b = [ 1,4,3,2,6]"
   ]
  },
  {
   "cell_type": "code",
   "execution_count": 6,
   "id": "608b44b9",
   "metadata": {},
   "outputs": [
    {
     "ename": "AttributeError",
     "evalue": "'tuple' object has no attribute 'pop'",
     "output_type": "error",
     "traceback": [
      "\u001b[1;31m---------------------------------------------------------------------------\u001b[0m",
      "\u001b[1;31mAttributeError\u001b[0m                            Traceback (most recent call last)",
      "\u001b[1;32m~\\AppData\\Local\\Temp\\ipykernel_4056\\2747194167.py\u001b[0m in \u001b[0;36m<module>\u001b[1;34m\u001b[0m\n\u001b[1;32m----> 1\u001b[1;33m \u001b[0ma\u001b[0m\u001b[1;33m.\u001b[0m\u001b[0mpop\u001b[0m\u001b[1;33m(\u001b[0m\u001b[1;33m)\u001b[0m\u001b[1;33m\u001b[0m\u001b[1;33m\u001b[0m\u001b[0m\n\u001b[0m\u001b[0;32m      2\u001b[0m \u001b[0mb\u001b[0m\u001b[1;33m.\u001b[0m\u001b[0mpop\u001b[0m\u001b[1;33m(\u001b[0m\u001b[1;33m)\u001b[0m\u001b[1;33m\u001b[0m\u001b[1;33m\u001b[0m\u001b[0m\n\u001b[0;32m      3\u001b[0m \u001b[0mb\u001b[0m\u001b[1;33m\u001b[0m\u001b[1;33m\u001b[0m\u001b[0m\n",
      "\u001b[1;31mAttributeError\u001b[0m: 'tuple' object has no attribute 'pop'"
     ]
    }
   ],
   "source": [
    "a.pop()\n"
   ]
  },
  {
   "cell_type": "markdown",
   "id": "106bcdf5",
   "metadata": {},
   "source": [
    "# clearly you may see pop is not working in tuple bcz of immutability"
   ]
  },
  {
   "cell_type": "code",
   "execution_count": 8,
   "id": "9c471fa4",
   "metadata": {},
   "outputs": [
    {
     "data": {
      "text/plain": [
       "[1, 4, 3, 2]"
      ]
     },
     "execution_count": 8,
     "metadata": {},
     "output_type": "execute_result"
    }
   ],
   "source": [
    "b = [ 1,4,3,2,6]\n",
    "b.pop()\n",
    "b"
   ]
  },
  {
   "cell_type": "code",
   "execution_count": 9,
   "id": "cbe6e2c2",
   "metadata": {},
   "outputs": [
    {
     "data": {
      "text/plain": [
       "[1, 4, 3, 2, 6, 22]"
      ]
     },
     "execution_count": 9,
     "metadata": {},
     "output_type": "execute_result"
    }
   ],
   "source": [
    "b = [ 1,4,3,2,6]\n",
    "b.append(22)\n",
    "b"
   ]
  },
  {
   "cell_type": "markdown",
   "id": "c583007a",
   "metadata": {},
   "source": [
    "# clearly you may see append  is not in tuple working bcz of immutability"
   ]
  },
  {
   "cell_type": "code",
   "execution_count": 10,
   "id": "eec383f9",
   "metadata": {},
   "outputs": [
    {
     "ename": "AttributeError",
     "evalue": "'tuple' object has no attribute 'append'",
     "output_type": "error",
     "traceback": [
      "\u001b[1;31m---------------------------------------------------------------------------\u001b[0m",
      "\u001b[1;31mAttributeError\u001b[0m                            Traceback (most recent call last)",
      "\u001b[1;32m~\\AppData\\Local\\Temp\\ipykernel_4056\\3859853876.py\u001b[0m in \u001b[0;36m<module>\u001b[1;34m\u001b[0m\n\u001b[0;32m      1\u001b[0m \u001b[0ma\u001b[0m \u001b[1;33m=\u001b[0m \u001b[1;33m(\u001b[0m\u001b[1;36m1\u001b[0m\u001b[1;33m,\u001b[0m\u001b[1;36m2\u001b[0m\u001b[1;33m,\u001b[0m\u001b[1;36m3\u001b[0m\u001b[1;33m,\u001b[0m\u001b[1;36m4\u001b[0m\u001b[1;33m,\u001b[0m\u001b[1;36m5\u001b[0m\u001b[1;33m)\u001b[0m\u001b[1;33m\u001b[0m\u001b[1;33m\u001b[0m\u001b[0m\n\u001b[1;32m----> 2\u001b[1;33m \u001b[0ma\u001b[0m\u001b[1;33m.\u001b[0m\u001b[0mappend\u001b[0m\u001b[1;33m(\u001b[0m\u001b[1;36m22\u001b[0m\u001b[1;33m)\u001b[0m\u001b[1;33m\u001b[0m\u001b[1;33m\u001b[0m\u001b[0m\n\u001b[0m",
      "\u001b[1;31mAttributeError\u001b[0m: 'tuple' object has no attribute 'append'"
     ]
    }
   ],
   "source": [
    "a = (1,2,3,4,5)\n",
    "a.append(22)"
   ]
  },
  {
   "cell_type": "markdown",
   "id": "1c5015aa",
   "metadata": {},
   "source": [
    "2)    Write a code snippet in Python that takes a string as input and returns a tuple of tuples. Each inner tuple should contain a character from the input string and its corresponding ASCII value.\n",
    "\n",
    "[   Sample example: Input_string = \"Hello\"\n",
    "\n",
    "                                     Output_tuple = (('H', 72), ('e', 101), ('l', 108), ('l', 108), ('o', 111))   ]"
   ]
  },
  {
   "cell_type": "code",
   "execution_count": 29,
   "id": "18d01e63",
   "metadata": {},
   "outputs": [
    {
     "name": "stdout",
     "output_type": "stream",
     "text": [
      "input a string: helo\n",
      "(('h', 104), ('e', 101), ('l', 108), ('o', 111))\n"
     ]
    }
   ],
   "source": [
    "n = input('input a string: ')\n",
    "aq=[]\n",
    "for i in n:\n",
    "    aq.append(ord(i))\n",
    "\n",
    "m = tuple(n)\n",
    "b = tuple(aq)\n",
    "ite = zip(m,b)\n",
    "itt = tuple(ite)\n",
    "print(itt)"
   ]
  },
  {
   "cell_type": "markdown",
   "id": "7681f46b",
   "metadata": {},
   "source": [
    "3)    Create a program that takes a list of tuples containing student name and roll number and returns a new list of tuples containing only those tuples whose first element is a vowel (a, e, i, o, u, A, E, I, O, U).\n",
    "\n",
    "[  Sample example: list_of_tuples = [(\"ananya\", 1), (\"Tanvi\", 2)]\n",
    "\n",
    "   Output_list_of_tuples = [(\"ananya\", 1)]"
   ]
  },
  {
   "cell_type": "code",
   "execution_count": 43,
   "id": "1ba8006a",
   "metadata": {},
   "outputs": [
    {
     "name": "stdout",
     "output_type": "stream",
     "text": [
      "(('om', 4), ('ite', 9), ('oraa', 8))\n"
     ]
    }
   ],
   "source": [
    "qww = []\n",
    "qw=[]\n",
    "tup = (('radha',1),('ram',2),('hari',3),('om',4),('ite',9),('oraa',8))\n",
    "w = ('a','e','i','o','u','A','E','I','O','U')\n",
    "for n , m in tup:\n",
    "    if n[0]  in w:\n",
    "        qww.append(n)\n",
    "        qw.append(m)\n",
    "    else :\n",
    "        pass\n",
    "    \n",
    "m = tuple(qww)\n",
    "b = tuple(qw)\n",
    "ite = zip(m,b)\n",
    "itt = tuple(ite)\n",
    "print(itt)    "
   ]
  },
  {
   "cell_type": "markdown",
   "id": "25eb3143",
   "metadata": {},
   "source": [
    "4)     WAP with both ways:  \n",
    "\n",
    "       (i) Without using Zip but use list comprehension\n",
    "\n",
    "          a)    For two matrices of size 4X4 each, perform matrix addition, subtraction, trace, transpose and scalar multiplication. \n",
    "\n",
    "          b)    For a given matrix, perform row-wise operations such as row addition and column addition.\n",
    "\n",
    "         \n",
    "\n",
    "       [ Sample example: matrix = [[1, 2, 3], [4, 5, 6]]\n",
    "\n",
    "                                          Row_wise_addition = [[6], [15]]\n",
    "\n",
    "\n",
    "                                          Column_wise_addition = [5, 7, 9]     ]\n",
    "\n",
    "\n",
    "       (ii) Using Zip ()\n",
    "\n",
    "           a)  For two matrices of size 4X4 each, perform matrix addition, subtraction, trace, transpose and scalar multiplication."
   ]
  },
  {
   "cell_type": "markdown",
   "id": "4a6bcc5a",
   "metadata": {},
   "source": [
    "       (i) Without using Zip but use list comprehension"
   ]
  },
  {
   "cell_type": "code",
   "execution_count": 44,
   "id": "2ecfd77d",
   "metadata": {},
   "outputs": [],
   "source": [
    "mat1 = [[1,2,3,1],[11,2,3,3],[4,5,0,2],[5,5,2,3]]\n",
    "mat2= [[0,1,2,0],[0,1,9,2],[3,7,2,8],[4,0,3,7]]\n"
   ]
  },
  {
   "cell_type": "code",
   "execution_count": 53,
   "id": "1bc796b8",
   "metadata": {},
   "outputs": [
    {
     "name": "stdout",
     "output_type": "stream",
     "text": [
      "[[1, 3, 5, 1], [11, 3, 12, 5], [7, 12, 2, 10], [9, 5, 5, 10]]\n"
     ]
    }
   ],
   "source": [
    "#addition in two matrices \n",
    "arr = [[mat1[i][j] + mat2[i][j]  for j in range(len(mat1[0]))] for i in range(len(mat1))]\n",
    "print(arr)"
   ]
  },
  {
   "cell_type": "code",
   "execution_count": null,
   "id": "d3e399b1",
   "metadata": {},
   "outputs": [],
   "source": []
  },
  {
   "cell_type": "code",
   "execution_count": 48,
   "id": "c4486b66",
   "metadata": {},
   "outputs": [
    {
     "name": "stdout",
     "output_type": "stream",
     "text": [
      "[[1, 11, 4, 5], [2, 2, 5, 5], [3, 3, 0, 2], [1, 3, 2, 3]]\n"
     ]
    }
   ],
   "source": [
    "# transpose\n",
    "mat1 = [[1,2,3,1],[11,2,3,3],[4,5,0,2],[5,5,2,3]]\n",
    "sww = [[mat1[j][i] for j in range(len(mat1))] for i in range(len(mat1[0]))]\n",
    "print(sww)"
   ]
  },
  {
   "cell_type": "code",
   "execution_count": 55,
   "id": "2ff649a4",
   "metadata": {},
   "outputs": [
    {
     "name": "stdout",
     "output_type": "stream",
     "text": [
      "[[1, 1, 1, 1], [11, 1, -6, 1], [1, -2, -2, -6], [1, 5, -1, -4]]\n"
     ]
    }
   ],
   "source": [
    "#substraction in two matrices\n",
    "arr = [[mat1[i][j] - mat2[i][j]  for j in range(len(mat1[0]))] for i in range(len(mat1))]\n",
    "print(arr)"
   ]
  },
  {
   "cell_type": "code",
   "execution_count": 58,
   "id": "4ad6cc10",
   "metadata": {},
   "outputs": [
    {
     "name": "stdout",
     "output_type": "stream",
     "text": [
      "enter constant: 2\n",
      "[[2, 4, 6, 2], [22, 4, 6, 6], [8, 10, 0, 4], [10, 10, 4, 6]]\n"
     ]
    }
   ],
   "source": [
    "# scalar multiplication\n",
    "c = int(input('enter constant: '))\n",
    "arr = [[c*mat1[i][j]  for j in range(len(mat1[0]))] for i in range(len(mat1))]\n",
    "print(arr)"
   ]
  },
  {
   "cell_type": "code",
   "execution_count": 110,
   "id": "5a558f0b",
   "metadata": {},
   "outputs": [
    {
     "name": "stdout",
     "output_type": "stream",
     "text": [
      "6\n"
     ]
    }
   ],
   "source": [
    "#trace of matrix 1\n",
    "arr = sum([mat1[i][i] for i in range(len(mat1))])\n",
    "print(arr)\n"
   ]
  },
  {
   "cell_type": "code",
   "execution_count": null,
   "id": "fb00a6cc",
   "metadata": {},
   "outputs": [],
   "source": []
  },
  {
   "cell_type": "code",
   "execution_count": 117,
   "id": "3ef5aabe",
   "metadata": {},
   "outputs": [
    {
     "data": {
      "text/plain": [
       "[[7], [19], [11], [15]]"
      ]
     },
     "execution_count": 117,
     "metadata": {},
     "output_type": "execute_result"
    }
   ],
   "source": [
    "#row sum\n",
    "mat1 = [[1,2,3,1],[11,2,3,3],[4,5,0,2],[5,5,2,3]]\n",
    "sum_mat=[[sum(s)] for s in mat1]\n",
    "sum_mat"
   ]
  },
  {
   "cell_type": "code",
   "execution_count": 123,
   "id": "2643f867",
   "metadata": {},
   "outputs": [
    {
     "name": "stdout",
     "output_type": "stream",
     "text": [
      "[21, 14, 8, 9]\n"
     ]
    }
   ],
   "source": [
    "#column sum\n",
    "arr = [sum([mat1[i][j] for i in range(4)]) for j in range(4)]\n",
    "print(arr)"
   ]
  },
  {
   "cell_type": "code",
   "execution_count": null,
   "id": "8af86cdc",
   "metadata": {},
   "outputs": [],
   "source": []
  },
  {
   "cell_type": "markdown",
   "id": "0a21e2ab",
   "metadata": {},
   "source": [
    "(ii) Using Zip ()"
   ]
  },
  {
   "cell_type": "code",
   "execution_count": 128,
   "id": "8a5584fe",
   "metadata": {},
   "outputs": [
    {
     "data": {
      "text/plain": [
       "[[1, 3, 5, 1], [11, 3, 12, 5], [7, 12, 2, 10], [9, 5, 5, 10]]"
      ]
     },
     "execution_count": 128,
     "metadata": {},
     "output_type": "execute_result"
    }
   ],
   "source": [
    "# matrix addition using zip\n",
    "mat1 = [[1,2,3,1],[11,2,3,3],[4,5,0,2],[5,5,2,3]]\n",
    "mat2= [[0,1,2,0],[0,1,9,2],[3,7,2,8],[4,0,3,7]]\n",
    "aa = zip(mat1,mat2)\n",
    "sum_mat1_mat2=[[a[0][i]+a[1][i] for i in range(4)] for a in aa]\n",
    "sum_mat1_mat2"
   ]
  },
  {
   "cell_type": "code",
   "execution_count": 129,
   "id": "360f77dc",
   "metadata": {},
   "outputs": [
    {
     "data": {
      "text/plain": [
       "[[1, 1, 1, 1], [11, 1, -6, 1], [1, -2, -2, -6], [1, 5, -1, -4]]"
      ]
     },
     "execution_count": 129,
     "metadata": {},
     "output_type": "execute_result"
    }
   ],
   "source": [
    "# matrix substraction using zip\n",
    "mat1 = [[1,2,3,1],[11,2,3,3],[4,5,0,2],[5,5,2,3]]\n",
    "mat2= [[0,1,2,0],[0,1,9,2],[3,7,2,8],[4,0,3,7]]\n",
    "aa = zip(mat1,mat2)\n",
    "sum_mat1_mat2=[[a[0][i]-a[1][i] for i in range(4)] for a in aa]\n",
    "sum_mat1_mat2\n",
    "    \n",
    "         \n",
    "\n",
    "        \n",
    "    \n",
    "    \n"
   ]
  },
  {
   "cell_type": "code",
   "execution_count": 149,
   "id": "89d7c739",
   "metadata": {},
   "outputs": [
    {
     "name": "stdout",
     "output_type": "stream",
     "text": [
      "6\n"
     ]
    }
   ],
   "source": [
    "# trace of matrix1 using zip function\n",
    "mat1 = [[1,2,3,1],[11,2,3,3],[4,5,0,2],[5,5,2,3]]\n",
    "axa = zip(*mat1)\n",
    "\n",
    "cmat_1=[list(a) for a in axa]\n",
    "arr = sum([cmat_1[i][i] for i in range(4)])\n",
    "print(arr)"
   ]
  },
  {
   "cell_type": "code",
   "execution_count": 145,
   "id": "9f46026c",
   "metadata": {},
   "outputs": [
    {
     "data": {
      "text/plain": [
       "[[1, 11, 4, 5], [2, 2, 5, 5], [3, 3, 0, 2], [1, 3, 2, 3]]"
      ]
     },
     "execution_count": 145,
     "metadata": {},
     "output_type": "execute_result"
    }
   ],
   "source": [
    "# Transpose of matrix using zip function\n",
    "mat1 = [[1,2,3,1],[11,2,3,3],[4,5,0,2],[5,5,2,3]]\n",
    "axa = zip(*mat1)\n",
    "\n",
    "cmat_1=[list(a) for a in axa]  \n",
    "cmat_1"
   ]
  },
  {
   "cell_type": "code",
   "execution_count": 144,
   "id": "06c09e45",
   "metadata": {},
   "outputs": [
    {
     "name": "stdout",
     "output_type": "stream",
     "text": [
      "enter scalar: 7\n"
     ]
    },
    {
     "data": {
      "text/plain": [
       "[[7, 14, 21, 7], [77, 14, 21, 21], [28, 35, 0, 14], [35, 35, 14, 21]]"
      ]
     },
     "execution_count": 144,
     "metadata": {},
     "output_type": "execute_result"
    }
   ],
   "source": [
    "# scalar multiplication using zip\n",
    "c = int(input('enter scalar: '))\n",
    "mat1 = [[1,2,3,1],[11,2,3,3],[4,5,0,2],[5,5,2,3]]\n",
    "axa = zip(*mat1)\n",
    "xaa=[[c*i for i in a] for a in axa]\n",
    "xa = zip(*xaa)\n",
    "cmat_1=[list(a) for a in xa]  \n",
    "cmat_1\n"
   ]
  },
  {
   "cell_type": "code",
   "execution_count": null,
   "id": "43c0f6b5",
   "metadata": {},
   "outputs": [],
   "source": []
  },
  {
   "cell_type": "markdown",
   "id": "98d6e19c",
   "metadata": {},
   "source": [
    "# 5)    Given a list of numbers, write a Python program to create a set `S` from the list and perform the following operations on the set:\n",
    "\n",
    "a)    Add an element to the set `S`\n",
    "\n",
    "b)    Remove an element from the set `S`\n",
    "\n",
    "c)     Discard an element from the set `S`\n",
    "\n",
    "d)    Clear all elements from the set `S`"
   ]
  },
  {
   "cell_type": "code",
   "execution_count": 87,
   "id": "18ed0e11",
   "metadata": {},
   "outputs": [
    {
     "name": "stdout",
     "output_type": "stream",
     "text": [
      "{1, 2, 3, 4, 5, 6, 7, 8}\n"
     ]
    }
   ],
   "source": [
    "\n",
    "lst = [1,2,3,4,5,6,7,8]\n",
    "se = set(lst)\n",
    "print(se)"
   ]
  },
  {
   "cell_type": "code",
   "execution_count": 88,
   "id": "32ade6c7",
   "metadata": {},
   "outputs": [
    {
     "data": {
      "text/plain": [
       "{0, 1, 2, 3, 4, 5, 6, 7, 8}"
      ]
     },
     "execution_count": 88,
     "metadata": {},
     "output_type": "execute_result"
    }
   ],
   "source": [
    "se.add(0)\n",
    "se"
   ]
  },
  {
   "cell_type": "code",
   "execution_count": 94,
   "id": "6388375a",
   "metadata": {},
   "outputs": [
    {
     "name": "stdout",
     "output_type": "stream",
     "text": [
      "{0, 2, 5, 6, 7, 8}\n"
     ]
    }
   ],
   "source": [
    "se.remove(3)\n",
    "print(se)\n"
   ]
  },
  {
   "cell_type": "code",
   "execution_count": 95,
   "id": "67bff7ce",
   "metadata": {},
   "outputs": [
    {
     "name": "stdout",
     "output_type": "stream",
     "text": [
      "{0, 2, 5, 7, 8}\n"
     ]
    }
   ],
   "source": [
    "se.discard(6)\n",
    "print(se)"
   ]
  },
  {
   "cell_type": "code",
   "execution_count": 96,
   "id": "fdc40b2d",
   "metadata": {},
   "outputs": [
    {
     "name": "stdout",
     "output_type": "stream",
     "text": [
      "set()\n"
     ]
    }
   ],
   "source": [
    "se.clear()\n",
    "print(se)"
   ]
  },
  {
   "cell_type": "markdown",
   "id": "7dfa4f69",
   "metadata": {},
   "source": [
    "# 6What is a frozenset()? Give examples."
   ]
  },
  {
   "cell_type": "markdown",
   "id": "bedcd17c",
   "metadata": {},
   "source": [
    "Python frozenset():-\n",
    "Method creates an immutable Set object from an iterable. It is a built-in Python function. As it is a set object therefore we cannot have duplicate values in the frozenset."
   ]
  },
  {
   "cell_type": "code",
   "execution_count": 98,
   "id": "1afcf80e",
   "metadata": {},
   "outputs": [
    {
     "name": "stdout",
     "output_type": "stream",
     "text": [
      "using frozen sets {frozenset({60, 45, 110}), frozenset({11, 28, 30})}\n"
     ]
    }
   ],
   "source": [
    "set1 = frozenset({11, 28, 30,30})\n",
    "set2 = frozenset({45, 110, 60})\n",
    "fr_sos = {set1, set2}\n",
    "\n",
    "print('using frozen sets',fr_sos)"
   ]
  },
  {
   "cell_type": "markdown",
   "id": "f51909f8",
   "metadata": {},
   "source": [
    "#  7Set comprehension: Create a set of all the even numbers between 1 and 10 using set comprehensions."
   ]
  },
  {
   "cell_type": "code",
   "execution_count": 103,
   "id": "48d5b829",
   "metadata": {},
   "outputs": [
    {
     "name": "stdout",
     "output_type": "stream",
     "text": [
      "{0, 2, 4, 6, 8, 10}\n"
     ]
    }
   ],
   "source": [
    "output = {v for v in range(11)  if v%2 ==0 }\n",
    "print(output)"
   ]
  },
  {
   "cell_type": "code",
   "execution_count": null,
   "id": "53d73988",
   "metadata": {},
   "outputs": [],
   "source": []
  }
 ],
 "metadata": {
  "kernelspec": {
   "display_name": "Python 3 (ipykernel)",
   "language": "python",
   "name": "python3"
  },
  "language_info": {
   "codemirror_mode": {
    "name": "ipython",
    "version": 3
   },
   "file_extension": ".py",
   "mimetype": "text/x-python",
   "name": "python",
   "nbconvert_exporter": "python",
   "pygments_lexer": "ipython3",
   "version": "3.9.13"
  }
 },
 "nbformat": 4,
 "nbformat_minor": 5
}
