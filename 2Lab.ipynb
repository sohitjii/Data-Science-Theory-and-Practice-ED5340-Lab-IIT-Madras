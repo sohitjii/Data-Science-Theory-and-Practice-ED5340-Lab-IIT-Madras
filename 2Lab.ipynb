{
 "cells": [
  {
   "cell_type": "markdown",
   "id": "6a438d32",
   "metadata": {},
   "source": [
    "# MA22M019\n",
    "SOHIT PATHAK"
   ]
  },
  {
   "cell_type": "markdown",
   "id": "86c986a2",
   "metadata": {},
   "source": [
    "1. Write a program to print numbers divisible by both 6 and 7. Numbers between 1\n",
    "and 500.\n",
    "[Numbers like 42, which are both divisible by 6 and 7]\n",
    "a. Using continue statement\n",
    "b. Using the pass statement"
   ]
  },
  {
   "cell_type": "code",
   "execution_count": 2,
   "id": "6a97fe45",
   "metadata": {},
   "outputs": [
    {
     "name": "stdout",
     "output_type": "stream",
     "text": [
      "42\n",
      "84\n",
      "126\n",
      "168\n",
      "210\n",
      "252\n",
      "294\n",
      "336\n",
      "378\n",
      "420\n",
      "462\n"
     ]
    }
   ],
   "source": [
    "# using pass\n",
    "for i in range(2,500):\n",
    "    if (i%6==0) and (i%7==0):\n",
    "        print(i)\n",
    "    else:    \n",
    "        pass\n",
    "    "
   ]
  },
  {
   "cell_type": "code",
   "execution_count": 4,
   "id": "a52451fc",
   "metadata": {},
   "outputs": [
    {
     "name": "stdout",
     "output_type": "stream",
     "text": [
      "42\n",
      "84\n",
      "126\n",
      "168\n",
      "210\n",
      "252\n",
      "294\n",
      "336\n",
      "378\n",
      "420\n",
      "462\n"
     ]
    }
   ],
   "source": [
    "#using continue\n",
    "for i in range(2,500):\n",
    "    if (i%6!=0) or (i%7!=0):\n",
    "        continue\n",
    "    else:\n",
    "        print(i)"
   ]
  },
  {
   "cell_type": "markdown",
   "id": "889bf89f",
   "metadata": {},
   "source": [
    "2.. Number 1111122221111222 has been given. Print the addition of all even digits\n",
    "and the addition of all odd digits.\n",
    "[Sample input = 156893, Sample Output: sum_even = 14\n",
    "sum_odd = 18]"
   ]
  },
  {
   "cell_type": "code",
   "execution_count": null,
   "id": "33526530",
   "metadata": {},
   "outputs": [],
   "source": []
  },
  {
   "cell_type": "code",
   "execution_count": null,
   "id": "f3b488da",
   "metadata": {},
   "outputs": [],
   "source": []
  },
  {
   "cell_type": "code",
   "execution_count": 21,
   "id": "0312b9a2",
   "metadata": {},
   "outputs": [
    {
     "name": "stdout",
     "output_type": "stream",
     "text": [
      "14\n",
      "9\n"
     ]
    }
   ],
   "source": [
    "even_count = 0\n",
    "odd_count = 0\n",
    "n = 1111122221111222\n",
    "while (n != 0):\n",
    "        rem = n % 10\n",
    "        if (rem % 10 == 2):\n",
    "            n//=10\n",
    "            even_count += 1\n",
    "        elif (rem % 10 == 1) :\n",
    "            n//=10\n",
    "            odd_count += 1\n",
    "print((2*even_count))\n",
    "print(odd_count)"
   ]
  },
  {
   "cell_type": "markdown",
   "id": "60cc9b09",
   "metadata": {},
   "source": [
    "4. Triangle Number Pattern: Print the following pattern for the given N number of\n",
    "rows.\n",
    "Sample Example:\n",
    "\n",
    "Pattern for N = 4\n",
    "1\n",
    "22\n",
    "333\n",
    "4444\n"
   ]
  },
  {
   "cell_type": "code",
   "execution_count": 20,
   "id": "1c99fb6f",
   "metadata": {},
   "outputs": [
    {
     "name": "stdout",
     "output_type": "stream",
     "text": [
      "Enter number of rows: 4\n",
      "1\n",
      "22\n",
      "333\n",
      "4444\n"
     ]
    }
   ],
   "source": [
    "n = int(input(\"Enter number of rows: \"))\n",
    "\n",
    "for i in range(1,n+1):\n",
    "    for j in range(1, i+1):\n",
    "        print(i, end=\"\")\n",
    "    print() "
   ]
  },
  {
   "cell_type": "markdown",
   "id": "7e01446b",
   "metadata": {},
   "source": [
    "3. Describe conditional expression. Write a program to print the maximum and\n",
    "minimum numbers from a list using conditional expression. Use the max () and\n",
    "min () functions to verify your output"
   ]
  },
  {
   "cell_type": "code",
   "execution_count": 22,
   "id": "b82b11cc",
   "metadata": {},
   "outputs": [
    {
     "name": "stdout",
     "output_type": "stream",
     "text": [
      "max value  using conditional expression is  11\n"
     ]
    }
   ],
   "source": [
    "#a conditional statement is a set of rules performed if a certain condition is met\n",
    "lst=[10,11]\n",
    "for ele in lst:\n",
    "    maxi = lst[0] if lst[0] > lst[1] else lst[1]\n",
    "print('max value  using conditional expression is ', maxi)"
   ]
  },
  {
   "cell_type": "code",
   "execution_count": 23,
   "id": "bd3f0875",
   "metadata": {},
   "outputs": [
    {
     "name": "stdout",
     "output_type": "stream",
     "text": [
      "min value  using conditional expression is  10\n"
     ]
    }
   ],
   "source": [
    "lst=[10,11]\n",
    "for ele in lst:\n",
    "    mini = lst[0] if lst[0] < lst[1] else lst[1]\n",
    "print('min value  using conditional expression is ', mini)"
   ]
  },
  {
   "cell_type": "markdown",
   "id": "898873ae",
   "metadata": {},
   "source": [
    "5. A palindrome sentence is a phrase or sentence that reads the same forwards as\n",
    "it does backwards, ignoring spaces, punctuation, and capitalization.\n",
    "A) Take a number as input, determine if it is a palindrome, considering only\n",
    "alphanumeric characters. Eg: 1331\n",
    "\n",
    "B) Now, take a string as an input and check whether if it is Palindrome or not.\n",
    "eg: 'A man, a plan, a canal, Panama'\n"
   ]
  },
  {
   "cell_type": "code",
   "execution_count": null,
   "id": "9acb6b49",
   "metadata": {},
   "outputs": [],
   "source": []
  },
  {
   "cell_type": "code",
   "execution_count": 33,
   "id": "1302a075",
   "metadata": {},
   "outputs": [
    {
     "name": "stdout",
     "output_type": "stream",
     "text": [
      "1441\n",
      "Yes\n"
     ]
    }
   ],
   "source": [
    "\n",
    " \n",
    " \n",
    "\n",
    "s = (input())\n",
    "\n",
    " \n",
    "if s==s[::-1]:\n",
    "    print(\"Yes\")\n",
    "else:\n",
    "    print(\"No\")"
   ]
  },
  {
   "cell_type": "code",
   "execution_count": 45,
   "id": "afa64d77",
   "metadata": {},
   "outputs": [
    {
     "name": "stdout",
     "output_type": "stream",
     "text": [
      "Yes\n"
     ]
    }
   ],
   "source": [
    "import re\n",
    "t = 'MaLayAlam'\n",
    "t = re.sub(r'[^\\w\\s]','',t)\n",
    "t= t.rstrip(\"w.\")\n",
    "t=t.lower()\n",
    "if t==t[::-1]:\n",
    "    print(\"Yes\")\n",
    "else:\n",
    "    print(\"No\")\n"
   ]
  },
  {
   "cell_type": "markdown",
   "id": "227ae7cd",
   "metadata": {},
   "source": [
    "6. Describe chr () and ord () functions. Write a small program to show its\n",
    "functionality.Using these functions,write a program to print:\n",
    "\n",
    "Pattern for N=4\n",
    "A\n",
    "B B\n",
    "C C C\n",
    "D D D D"
   ]
  },
  {
   "cell_type": "markdown",
   "id": "bf275fd3",
   "metadata": {},
   "source": [
    "# Python ord() function takes string argument of a single Unicode character and return its integer Unicode code point value\n",
    "# Python ord() and chr() are built-in functions. They are used to convert a character to an int and vice versa. Python ord() and chr() functions are exactly opposite of each other."
   ]
  },
  {
   "cell_type": "code",
   "execution_count": 46,
   "id": "720d9bf9",
   "metadata": {},
   "outputs": [
    {
     "name": "stdout",
     "output_type": "stream",
     "text": [
      "A\n",
      "{\n",
      "$\n"
     ]
    }
   ],
   "source": [
    "y = chr(65)\n",
    "print(y)\n",
    "print(chr(123))\n",
    "print(chr(36))"
   ]
  },
  {
   "cell_type": "code",
   "execution_count": 47,
   "id": "fe33e764",
   "metadata": {},
   "outputs": [
    {
     "name": "stdout",
     "output_type": "stream",
     "text": [
      "65\n",
      "263\n",
      "231\n",
      "36\n"
     ]
    }
   ],
   "source": [
    "x = ord('A')\n",
    "print(x)\n",
    "\n",
    "print(ord('ć'))\n",
    "print(ord('ç'))\n",
    "print(ord('$'))"
   ]
  },
  {
   "cell_type": "code",
   "execution_count": null,
   "id": "1c4c4f98",
   "metadata": {},
   "outputs": [],
   "source": [
    "#Using these functions,write a program to print:\n",
    "    "
   ]
  },
  {
   "cell_type": "code",
   "execution_count": 90,
   "id": "f3a254d7",
   "metadata": {},
   "outputs": [
    {
     "name": "stdout",
     "output_type": "stream",
     "text": [
      "A \n",
      "B B \n",
      "C C C \n",
      "D D D D \n"
     ]
    }
   ],
   "source": [
    "n = 4\n",
    "for i in range(1, n + 1):\n",
    "        for j in range(1, i + 1):\n",
    "            print(chr(ord('A') + i - 1),\n",
    "                             end = \" \")\n",
    " \n",
    "        print(\"\")"
   ]
  },
  {
   "cell_type": "code",
   "execution_count": null,
   "id": "c3610583",
   "metadata": {},
   "outputs": [],
   "source": []
  },
  {
   "cell_type": "markdown",
   "id": "3160546b",
   "metadata": {},
   "source": [
    "7. Write a program to perform the following tasks: (a) Create a list of airline\n",
    "tickets, each containing the name of the passenger, ticket number, departure\n",
    "date, and flight distance. (b) Insert a new ticket into the list while maintaining\n",
    "alphabetical order of passenger names. (c) Search for a specific passenger by\n",
    "name and remove their ticket information from the list. (d) Add a new ticket to\n",
    "the beginning of the list with inputted passenger information. (e) Detect and\n",
    "eliminate duplicate tickets, keeping only one instance of each. (f) Sort the entire\n",
    "list of tickets in alphabetical order by passenger name"
   ]
  },
  {
   "cell_type": "code",
   "execution_count": 1,
   "id": "f63b7e04",
   "metadata": {},
   "outputs": [
    {
     "name": "stdout",
     "output_type": "stream",
     "text": [
      "[['ram', 'h1', '1/1/2023', 29], ['sita', 'h2', '2/2/2023', 92], ['umair', 'h3', '3/2/2023', 50], ['sita', 'h2', '2/2/2023', 92]]\n"
     ]
    }
   ],
   "source": [
    "air1 = ['ram','h1','1/1/2023',29]\n",
    "air2 = ['sita','h2','2/2/2023',92]\n",
    "air3 = ['umair','h3','3/2/2023',50]\n",
    "air4 = ['sita','h2','2/2/2023',92]\n",
    "air5 = [air1,air2,air3,air4]\n",
    "\n",
    "print(air5)"
   ]
  },
  {
   "cell_type": "code",
   "execution_count": 2,
   "id": "7cd70b6f",
   "metadata": {},
   "outputs": [
    {
     "name": "stdout",
     "output_type": "stream",
     "text": [
      "[['ram', 'h1', '1/1/2023', 29], ['sita', 'h2', '2/2/2023', 92], ['jaggu', 'h5', '4/5/2023', 33], ['umair', 'h3', '3/2/2023', 50], ['sita', 'h2', '2/2/2023', 92]]\n"
     ]
    }
   ],
   "source": [
    "# air6 is new ticket and i will insert it \n",
    "air6 = ['jaggu','h5','4/5/2023',33] \n",
    "air5.insert(2,air6)\n",
    "\n",
    "print(air5)\n"
   ]
  },
  {
   "cell_type": "code",
   "execution_count": 3,
   "id": "b780d0cd",
   "metadata": {},
   "outputs": [
    {
     "data": {
      "text/plain": [
       "[['jaggu', 'h5', '4/5/2023', 33],\n",
       " ['ram', 'h1', '1/1/2023', 29],\n",
       " ['sita', 'h2', '2/2/2023', 92],\n",
       " ['sita', 'h2', '2/2/2023', 92],\n",
       " ['umair', 'h3', '3/2/2023', 50]]"
      ]
     },
     "execution_count": 3,
     "metadata": {},
     "output_type": "execute_result"
    }
   ],
   "source": [
    "#now it will be in alphabatical order of passenger name\n",
    "sorted(air5)"
   ]
  },
  {
   "cell_type": "code",
   "execution_count": 4,
   "id": "d706d48e",
   "metadata": {},
   "outputs": [
    {
     "name": "stdout",
     "output_type": "stream",
     "text": [
      "[['ram', 'h1', '1/1/2023', 29], ['sita', 'h2', '2/2/2023', 92], ['umair', 'h3', '3/2/2023', 50], ['sita', 'h2', '2/2/2023', 92]]\n"
     ]
    }
   ],
   "source": [
    "# search in list then remove it\n",
    "my_list = air5\n",
    "for x in air5:\n",
    "    if 'jaggu' in x[0]:\n",
    "        air5.remove(x)\n",
    "print(air5)        \n",
    "    "
   ]
  },
  {
   "cell_type": "code",
   "execution_count": 5,
   "id": "95e1706f",
   "metadata": {},
   "outputs": [
    {
     "name": "stdout",
     "output_type": "stream",
     "text": [
      "[['sharma', 'h8', '1/9/2023', 77], ['ram', 'h1', '1/1/2023', 29], ['sita', 'h2', '2/2/2023', 92], ['umair', 'h3', '3/2/2023', 50], ['sita', 'h2', '2/2/2023', 92]]\n"
     ]
    }
   ],
   "source": [
    "# add a new ticket in begining\n",
    "air7 = ['sharma','h8','1/9/2023',77]\n",
    "air5.insert(0,air7)\n",
    "print(air5)"
   ]
  },
  {
   "cell_type": "code",
   "execution_count": 6,
   "id": "dcb19c4c",
   "metadata": {},
   "outputs": [
    {
     "name": "stdout",
     "output_type": "stream",
     "text": [
      "[['sharma', 'h8', '1/9/2023', 77], ['ram', 'h1', '1/1/2023', 29], ['umair', 'h3', '3/2/2023', 50], ['sita', 'h2', '2/2/2023', 92]]\n"
     ]
    }
   ],
   "source": [
    "# detect and remove duplicate list\n",
    "arr=[]\n",
    "for i in air5:\n",
    "    \n",
    "    if i  not in arr:\n",
    "        arr.append(i)\n",
    "    else:\n",
    "        air5.remove(i)\n",
    "print(air5)        "
   ]
  },
  {
   "cell_type": "code",
   "execution_count": 7,
   "id": "484a8550",
   "metadata": {},
   "outputs": [
    {
     "data": {
      "text/plain": [
       "[['ram', 'h1', '1/1/2023', 29],\n",
       " ['sharma', 'h8', '1/9/2023', 77],\n",
       " ['sita', 'h2', '2/2/2023', 92],\n",
       " ['umair', 'h3', '3/2/2023', 50]]"
      ]
     },
     "execution_count": 7,
     "metadata": {},
     "output_type": "execute_result"
    }
   ],
   "source": [
    "# sort the ticket in alphabatically\n",
    "sorted(air5)"
   ]
  },
  {
   "cell_type": "markdown",
   "id": "112e789a",
   "metadata": {},
   "source": [
    "8. Write a program using list comprehension\n",
    "a) To add the corresponding elements of two lists and print the new list\n",
    "b) To perform element wise multiplication of two lists and print the new\n",
    "list.\n",
    "c) To create a list of the unique characters of a given string. Eg: input =\n",
    "‘even’ output = [‘e’, ‘v’, ‘n’]"
   ]
  },
  {
   "cell_type": "code",
   "execution_count": 8,
   "id": "f1f000f7",
   "metadata": {},
   "outputs": [
    {
     "name": "stdout",
     "output_type": "stream",
     "text": [
      "[4, 6, 8, 10]\n",
      "[3, 8, 15, 24]\n"
     ]
    }
   ],
   "source": [
    "l = [1,2,3,4]\n",
    "i = [3,4,5,6]\n",
    "ltt= [l[k]+i[k] for k in range(len(l))]\n",
    "print(ltt)\n",
    "lt1= [l[k]*i[k] for k in range(len(l))]\n",
    "print(lt1)\n"
   ]
  },
  {
   "cell_type": "code",
   "execution_count": 73,
   "id": "8f681228",
   "metadata": {},
   "outputs": [
    {
     "name": "stdout",
     "output_type": "stream",
     "text": [
      "[3, 6, 9, 12, 4, 8, 12, 16, 5, 10, 15, 20, 6, 12, 18, 24]\n"
     ]
    }
   ],
   "source": [
    "\n",
    "it2=[(l[k]*(i[0]) ) for k in range(len(l))]\n",
    "it3=[l[k]*(i[1])  for k in range(len(l))]\n",
    "it4=[l[k]*(i[2])  for k in range(len(l))]\n",
    "it5=[l[k]*(i[3])  for k in range(len(l))]\n",
    "it6=[*it2,*it3,*it4,*it5]\n",
    "print(it6)"
   ]
  },
  {
   "cell_type": "code",
   "execution_count": null,
   "id": "28a7c0b5",
   "metadata": {},
   "outputs": [],
   "source": []
  },
  {
   "cell_type": "code",
   "execution_count": 75,
   "id": "6661a883",
   "metadata": {},
   "outputs": [
    {
     "name": "stdout",
     "output_type": "stream",
     "text": [
      "['a', 'b', 's']\n"
     ]
    }
   ],
   "source": [
    "str = 'absbsbs'\n",
    "unique = []\n",
    "for c in str:\n",
    "    if not c in unique:\n",
    "        unique.append(c)\n",
    "print(unique)        "
   ]
  },
  {
   "cell_type": "markdown",
   "id": "bdb7e586",
   "metadata": {},
   "source": [
    "9. Using the concept of list of lists, WAP\n",
    "a) To add the elements of 2 matrices (Define matrices as per your wish).\n",
    "b) To perform element wise multiplication on 2 matrices."
   ]
  },
  {
   "cell_type": "code",
   "execution_count": 97,
   "id": "48c24b5a",
   "metadata": {},
   "outputs": [
    {
     "name": "stdout",
     "output_type": "stream",
     "text": [
      "[[3, 3, 4], [4, 6, 7]] [[2, 2, 3], [4, 9, 12]]\n"
     ]
    }
   ],
   "source": [
    "list1 = [[1,2,3],[2,3,4]]\n",
    "list2 = [[2,1,1],[2,3,3]]\n",
    "list3=[]\n",
    "list5=[]\n",
    "for i in range(0, 2):\n",
    "    list4=[]\n",
    "    list6=[]\n",
    "    for k in range(0, 3):\n",
    "        list4.append(list1[i][k] + list2[i][k])\n",
    "        list6.append(list1[i][k] * list2[i][k])\n",
    "    list3.append(list4)\n",
    "    list5.append(list6)\n",
    "    \n",
    "print(list3,list5)        \n",
    "        "
   ]
  },
  {
   "cell_type": "markdown",
   "id": "6374cda8",
   "metadata": {},
   "source": [
    "10. Explore print statement using formatted strings and write a program to\n",
    "demonstrate them"
   ]
  },
  {
   "cell_type": "markdown",
   "id": "cf723644",
   "metadata": {},
   "source": [
    "The format() method formats the specified value(s) and insert them inside the string's placeholder"
   ]
  },
  {
   "cell_type": "code",
   "execution_count": 91,
   "id": "fd430c35",
   "metadata": {},
   "outputs": [
    {
     "name": "stdout",
     "output_type": "stream",
     "text": [
      "My name is John, I'm 36\n"
     ]
    }
   ],
   "source": [
    "txt1 = \"My name is {fname}, I'm {age}\".format(fname = \"John\", age = 36)\n",
    "print(txt1)"
   ]
  },
  {
   "cell_type": "markdown",
   "id": "557d7dc1",
   "metadata": {},
   "source": [
    " WAP to find the maximum of 3 numbers using a nested conditional\n",
    "expression. (No loops should be used)"
   ]
  },
  {
   "cell_type": "code",
   "execution_count": 102,
   "id": "6620c8fa",
   "metadata": {},
   "outputs": [
    {
     "name": "stdout",
     "output_type": "stream",
     "text": [
      "max value  using conditional expression is  300\n"
     ]
    }
   ],
   "source": [
    "# ques11\n",
    "a= 100\n",
    "b= 200\n",
    "c = 300\n",
    "\n",
    "max= a if a>b else b\n",
    "maxi = max if max>c else c\n",
    "    \n",
    "print('max value  using conditional expression is ', maxi)"
   ]
  },
  {
   "cell_type": "code",
   "execution_count": null,
   "id": "86dd7a42",
   "metadata": {},
   "outputs": [],
   "source": []
  },
  {
   "cell_type": "code",
   "execution_count": null,
   "id": "c1c060ac",
   "metadata": {},
   "outputs": [],
   "source": []
  },
  {
   "cell_type": "code",
   "execution_count": null,
   "id": "be209b1c",
   "metadata": {},
   "outputs": [],
   "source": []
  },
  {
   "cell_type": "code",
   "execution_count": null,
   "id": "7a0fb5ce",
   "metadata": {},
   "outputs": [],
   "source": []
  },
  {
   "cell_type": "code",
   "execution_count": null,
   "id": "f89e539d",
   "metadata": {},
   "outputs": [],
   "source": []
  }
 ],
 "metadata": {
  "kernelspec": {
   "display_name": "Python 3 (ipykernel)",
   "language": "python",
   "name": "python3"
  },
  "language_info": {
   "codemirror_mode": {
    "name": "ipython",
    "version": 3
   },
   "file_extension": ".py",
   "mimetype": "text/x-python",
   "name": "python",
   "nbconvert_exporter": "python",
   "pygments_lexer": "ipython3",
   "version": "3.9.13"
  }
 },
 "nbformat": 4,
 "nbformat_minor": 5
}
