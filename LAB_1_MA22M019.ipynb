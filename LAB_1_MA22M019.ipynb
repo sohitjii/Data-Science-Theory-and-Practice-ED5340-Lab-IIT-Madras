{
 "cells": [
  {
   "cell_type": "markdown",
   "id": "1aaeb21c",
   "metadata": {},
   "source": [
    "# 1.\tWAP to find the value of the following:\n",
    "a)\t7(ln(5)+ln(e3))\n",
    "b)\t1/sin(π/3) + 1/cos(3π/2)\n"
   ]
  },
  {
   "cell_type": "code",
   "execution_count": null,
   "id": "03698887",
   "metadata": {},
   "outputs": [],
   "source": [
    "from math import log, sin, e , pi, cos\n",
    "x= (7*log(5))+(log(e**3))\n",
    "print(x)\n"
   ]
  },
  {
   "cell_type": "code",
   "execution_count": 145,
   "id": "50b027a2",
   "metadata": {},
   "outputs": [
    {
     "name": "stdout",
     "output_type": "stream",
     "text": [
      "0.15470053837925168\n"
     ]
    }
   ],
   "source": [
    "x= 1/(sin(pi/3))+ 1/(cos(3*pi))\n",
    "print(x)"
   ]
  },
  {
   "cell_type": "markdown",
   "id": "e4a7510a",
   "metadata": {},
   "source": [
    "# 3.\tWAP to demonstrate the use of  trunc( ), floor( ), ceil( ) and round( ) on the following numbers 100.496, 100.59,-100.496, -6.5, 4.25, 8.5 and 9."
   ]
  },
  {
   "cell_type": "code",
   "execution_count": 158,
   "id": "696efd43",
   "metadata": {},
   "outputs": [
    {
     "name": "stdout",
     "output_type": "stream",
     "text": [
      "100 100 -101 -7 4 8 9\n",
      "101 101 -100 -6 5 9 9\n",
      "100 100 -100 -6 4 8 9\n",
      "100 101 -100 -6 4 8 9\n"
     ]
    }
   ],
   "source": [
    "from math import floor,ceil, trunc \n",
    "a=100.496\n",
    "b=100.59\n",
    "c= -a\n",
    "d= -6.5\n",
    "e= 4.25\n",
    "g=9\n",
    "f=8.5\n",
    "print(floor(a),floor(b),floor(c),floor(d),floor(e),floor(f),floor(g))\n",
    "print(ceil(a),ceil(b),ceil(c),ceil(d),ceil(e),ceil(f),ceil(g))  \n",
    "print(trunc(a),trunc(b),trunc(c),trunc(d),trunc(e),trunc(f),trunc(g)) \n",
    "print(round(a),round(b),round(c),round(d),round(e),round(f),round(g))"
   ]
  },
  {
   "cell_type": "markdown",
   "id": "7b22cdc5",
   "metadata": {},
   "source": [
    "# 4.\tWAP \n",
    "a)\tThat generates the random numbers in the range 5 to 55. Take the seed value as user input. (import random module)\n",
    "\n",
    "b)\tFind the average of those numbers\n"
   ]
  },
  {
   "cell_type": "code",
   "execution_count": 147,
   "id": "a9f2cf4a",
   "metadata": {},
   "outputs": [
    {
     "name": "stdout",
     "output_type": "stream",
     "text": [
      "enter the seed value3\n",
      "33.666666666666664\n"
     ]
    }
   ],
   "source": [
    "import random\n",
    "x = int(input(\"enter the seed value\"))\n",
    "random.seed(x)\n",
    "a =random.randint(5, 55)\n",
    "b=random.randint(5, 55)\n",
    "c=random.randint(5, 55)\n",
    "\n",
    "avg=(a+b+c)/3\n",
    "print(avg)"
   ]
  },
  {
   "cell_type": "markdown",
   "id": "88dd9559",
   "metadata": {},
   "source": [
    "# 6.\tFrom the word “PYTHON”\n",
    "a)\tprint the letter \"H\".\n",
    "\n",
    "b)  print the first three letters.\n",
    "\n",
    "c)  print last letter.\n",
    "\n",
    "d)  reverse the string\n"
   ]
  },
  {
   "cell_type": "code",
   "execution_count": 39,
   "id": "8da3a895",
   "metadata": {},
   "outputs": [
    {
     "data": {
      "text/plain": [
       "'H'"
      ]
     },
     "execution_count": 39,
     "metadata": {},
     "output_type": "execute_result"
    }
   ],
   "source": [
    "X= \"PYTHON\"\n",
    "X[3]"
   ]
  },
  {
   "cell_type": "code",
   "execution_count": 41,
   "id": "1e2d83ee",
   "metadata": {},
   "outputs": [
    {
     "data": {
      "text/plain": [
       "'PYT'"
      ]
     },
     "execution_count": 41,
     "metadata": {},
     "output_type": "execute_result"
    }
   ],
   "source": [
    "X[:3]"
   ]
  },
  {
   "cell_type": "code",
   "execution_count": 42,
   "id": "eab43574",
   "metadata": {},
   "outputs": [
    {
     "data": {
      "text/plain": [
       "'N'"
      ]
     },
     "execution_count": 42,
     "metadata": {},
     "output_type": "execute_result"
    }
   ],
   "source": [
    "X[5]"
   ]
  },
  {
   "cell_type": "code",
   "execution_count": 49,
   "id": "d30fcc6b",
   "metadata": {},
   "outputs": [
    {
     "data": {
      "text/plain": [
       "'N'"
      ]
     },
     "execution_count": 49,
     "metadata": {},
     "output_type": "execute_result"
    }
   ],
   "source": [
    "X[5]"
   ]
  },
  {
   "cell_type": "code",
   "execution_count": 53,
   "id": "3cdd88a4",
   "metadata": {},
   "outputs": [
    {
     "data": {
      "text/plain": [
       "'NOHTYP'"
      ]
     },
     "execution_count": 53,
     "metadata": {},
     "output_type": "execute_result"
    }
   ],
   "source": [
    "X[::-1]"
   ]
  },
  {
   "cell_type": "markdown",
   "id": "e3940e5d",
   "metadata": {},
   "source": [
    "# 7.\tGiven the words Learning, python, is, fun, WAP to print the following:\n",
    "\n",
    "a)\tLearning python is fun\n",
    "\n",
    "b)\tLEARNING PYTHON IS FUN\n",
    "\n",
    "c)\tFun is python learning\n",
    "\n",
    "d)\tnuf si nohtyp gninrael\n"
   ]
  },
  {
   "cell_type": "code",
   "execution_count": 124,
   "id": "3c0d59f3",
   "metadata": {},
   "outputs": [
    {
     "name": "stdout",
     "output_type": "stream",
     "text": [
      "Learning python is fun\n",
      "Fun is python Learning\n",
      "LEARNING PYTHON IS FUN\n",
      "nuf si nohtyp gninraeL\n"
     ]
    }
   ],
   "source": [
    "a,b,c,d,e= 'Learning',\"python\",\"is\",\"fun\",\" \"\n",
    "f= a+e+b+e+c+e+d\n",
    "print(f)\n",
    "g= d.capitalize()+e+c+e+b+e+a\n",
    "print(g)\n",
    "f= a.upper()+e+b.upper()+e+c.upper()+e+d.upper()\n",
    "print(f)\n",
    "print(d[::-1]+e+c[::-1]+e+b[::-1]+e+a[::-1])\n",
    "\n",
    "\n"
   ]
  },
  {
   "cell_type": "markdown",
   "id": "1402aca2",
   "metadata": {},
   "source": [
    "# 9.\tWAP for demonstrating the arithmetic operations by taking two input values from the keyboard simultaneously. (Use split function)"
   ]
  },
  {
   "cell_type": "code",
   "execution_count": 151,
   "id": "34dad47a",
   "metadata": {},
   "outputs": [
    {
     "name": "stdout",
     "output_type": "stream",
     "text": [
      "enter input: 2 3\n",
      "5\n"
     ]
    }
   ],
   "source": [
    "x,y = input(\"enter input: \").split()\n",
    "print((int(x)+int(y)))"
   ]
  },
  {
   "cell_type": "markdown",
   "id": "c72c305f",
   "metadata": {},
   "source": [
    "# 8.\tWAP to demonstrate the standard data types in Python and print the size and type of each of them and print them in ascending order."
   ]
  },
  {
   "cell_type": "code",
   "execution_count": 110,
   "id": "e9707ee9",
   "metadata": {},
   "outputs": [
    {
     "name": "stdout",
     "output_type": "stream",
     "text": [
      "<class 'int'>\n",
      "<class 'float'>\n",
      "<class 'complex'>\n",
      "<class 'bool'>\n",
      "<class 'str'>\n",
      "24\n",
      "28\n",
      "52\n",
      "32\n"
     ]
    }
   ],
   "source": [
    "import sys\n",
    "r = 5\n",
    "\n",
    "print(type(r))\n",
    "a=5.0\n",
    "b= 2+ 3j\n",
    "d= \"ram\"\n",
    "\n",
    "c= 4>3\n",
    "\n",
    "\n",
    "print(type(a))\n",
    "print(type(b))\n",
    "print(type(c))\n",
    "print(type(d))\n",
    "\n",
    "\n",
    "print(sys.getsizeof(a))\n",
    "print(sys.getsizeof(c))\n",
    "print(sys.getsizeof(d))\n",
    "print(sys.getsizeof(b))\n"
   ]
  },
  {
   "cell_type": "markdown",
   "id": "2e4e44f5",
   "metadata": {},
   "source": [
    "#2.\tWAP to return the count of odd numbers between 5 and 50 (both inclusive) using arithmetic operators (without using loops). "
   ]
  },
  {
   "cell_type": "code",
   "execution_count": 112,
   "id": "08b58075",
   "metadata": {},
   "outputs": [
    {
     "name": "stdout",
     "output_type": "stream",
     "text": [
      "23\n"
     ]
    }
   ],
   "source": [
    "list1 = range(5,50)\n",
    "odd_count = len(list(filter(lambda x: (x%2 != 0) , list1)))\n",
    "print(odd_count)"
   ]
  },
  {
   "cell_type": "markdown",
   "id": "e8e4ee6c",
   "metadata": {},
   "source": [
    "# 5.\tWAP to solve the quadratic equation of the form ax2+bx+c=0, where a, b and c are real numbers and a ≠ 0 (Take a, b and c as user input)."
   ]
  },
  {
   "cell_type": "code",
   "execution_count": 142,
   "id": "171cb76d",
   "metadata": {},
   "outputs": [
    {
     "name": "stdout",
     "output_type": "stream",
     "text": [
      "enter number 3\n",
      "enter number 4\n",
      "enter number 3\n",
      "(-0.6666666666666666+0.7453559924999299j) (-0.6666666666666666-0.7453559924999299j)\n"
     ]
    }
   ],
   "source": [
    "import cmath\n",
    "a = float(input(\"enter number \"))\n",
    "b = float(input(\"enter number \"))\n",
    "c = float(input(\"enter number \"))\n",
    "if a!= 0 :\n",
    "    d = (b*b)- (4*a*c)\n",
    "    x1 = (-b + cmath.sqrt(d))/(2*a)\n",
    "    x2 = (-b - cmath.sqrt(d))/(2*a)\n",
    "    print(x1,x2)\n",
    "  \n",
    "\n"
   ]
  },
  {
   "cell_type": "code",
   "execution_count": null,
   "id": "4aede543",
   "metadata": {},
   "outputs": [],
   "source": []
  },
  {
   "cell_type": "code",
   "execution_count": null,
   "id": "b075f7c0",
   "metadata": {},
   "outputs": [],
   "source": []
  },
  {
   "cell_type": "code",
   "execution_count": null,
   "id": "e9551a34",
   "metadata": {},
   "outputs": [],
   "source": []
  }
 ],
 "metadata": {
  "kernelspec": {
   "display_name": "Python 3 (ipykernel)",
   "language": "python",
   "name": "python3"
  },
  "language_info": {
   "codemirror_mode": {
    "name": "ipython",
    "version": 3
   },
   "file_extension": ".py",
   "mimetype": "text/x-python",
   "name": "python",
   "nbconvert_exporter": "python",
   "pygments_lexer": "ipython3",
   "version": "3.9.13"
  }
 },
 "nbformat": 4,
 "nbformat_minor": 5
}
